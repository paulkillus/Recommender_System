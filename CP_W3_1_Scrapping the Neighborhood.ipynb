{
 "cells": [
  {
   "cell_type": "markdown",
   "metadata": {
    "collapsed": true
   },
   "source": [
    "# Scrapping the Neighborhood\n",
    "### Capstone project, Week 3, task1"
   ]
  },
  {
   "cell_type": "markdown",
   "metadata": {},
   "source": [
    "The task is to get the neighborhood information from wikipedia page: https://en.wikipedia.org/wiki/List_of_postal_codes_of_Canada:_M"
   ]
  },
  {
   "cell_type": "markdown",
   "metadata": {},
   "source": [
    "First of all, let's import packages that are commonly used for web scrapping. \n",
    "This list includes requests, urlib.request, time, bs4\n",
    "We also need to import pandas"
   ]
  },
  {
   "cell_type": "code",
   "execution_count": null,
   "metadata": {},
   "outputs": [],
   "source": [
    "import requests\n",
    "import urllib.request\n",
    "import time\n",
    "from bs4 import BeautifulSoup\n",
    "import pandas as pd"
   ]
  },
  {
   "cell_type": "markdown",
   "metadata": {},
   "source": [
    "Use requests to get the content from the url"
   ]
  },
  {
   "cell_type": "code",
   "execution_count": 2,
   "metadata": {},
   "outputs": [
    {
     "data": {
      "text/plain": [
       "<Response [200]>"
      ]
     },
     "execution_count": 2,
     "metadata": {},
     "output_type": "execute_result"
    }
   ],
   "source": [
    "url = \"https://en.wikipedia.org/wiki/List_of_postal_codes_of_Canada:_M\"\n",
    "response = requests.get(url)\n",
    "response #if the connection is good then the result should be <Response [200]>"
   ]
  },
  {
   "cell_type": "markdown",
   "metadata": {},
   "source": [
    "Use beautiful soup to parse the page. We only need the first table that contains neighborhood information."
   ]
  },
  {
   "cell_type": "code",
   "execution_count": 73,
   "metadata": {},
   "outputs": [],
   "source": [
    "soup = BeautifulSoup(response.text, \"html.parser\")\n",
    "table = soup.findAll('table')[0] #only parse the first table"
   ]
  },
  {
   "cell_type": "markdown",
   "metadata": {},
   "source": [
    "convert the tabel into a dataframe and add the headings"
   ]
  },
  {
   "cell_type": "code",
   "execution_count": 75,
   "metadata": {},
   "outputs": [
    {
     "name": "stdout",
     "output_type": "stream",
     "text": [
      "  Postcode           Borough      Neighborhood\n",
      "0      M1A      Not assigned      Not assigned\n",
      "1      M2A      Not assigned      Not assigned\n",
      "2      M3A        North York         Parkwoods\n",
      "3      M4A        North York  Victoria Village\n",
      "4      M5A  Downtown Toronto      Harbourfront \n",
      "\n",
      " (288, 3)\n"
     ]
    }
   ],
   "source": [
    "df = []\n",
    "for rows in table.findAll('tr'):\n",
    "    row = []\n",
    "    for items in rows.findAll('td'):\n",
    "        row.append(items.text.replace('\\n',''))\n",
    "    df.append(row)\n",
    "df.pop(0)\n",
    "df = pd.DataFrame(df, columns=['Postcode', 'Borough', 'Neighborhood'])\n",
    "print(df.head(),\"\\n\\n\", df.shape)"
   ]
  },
  {
   "cell_type": "markdown",
   "metadata": {},
   "source": [
    "Remove the rows with Borough or Neighborhood being \"Not assigned\""
   ]
  },
  {
   "cell_type": "code",
   "execution_count": 80,
   "metadata": {},
   "outputs": [
    {
     "name": "stdout",
     "output_type": "stream",
     "text": [
      "Any boroughs unassigned?  False    102\n",
      "Name: Borough, dtype: int64\n",
      "Any neighborhoods unassigned?  False    102\n",
      "Name: Neighborhood, dtype: int64\n"
     ]
    }
   ],
   "source": [
    "df = df[(df['Borough'] != 'Not assigned') & (df['Neighborhood'] != 'Not assigned')]\n",
    "print(\"Any boroughs unassigned? \",(df['Borough'] == 'Not assigned').value_counts())\n",
    "print(\"Any neighborhoods unassigned? \",(df['Neighborhood'] == 'Not assigned').value_counts())"
   ]
  },
  {
   "cell_type": "markdown",
   "metadata": {},
   "source": [
    "Combine neighborhoods with the same postcode."
   ]
  },
  {
   "cell_type": "code",
   "execution_count": 81,
   "metadata": {},
   "outputs": [],
   "source": [
    "df = df.groupby(['Postcode','Borough'])['Neighborhood'].agg(lambda col: ','.join(col)).reset_index()"
   ]
  },
  {
   "cell_type": "markdown",
   "metadata": {},
   "source": [
    "Show the shape of cleaned dataframe"
   ]
  },
  {
   "cell_type": "code",
   "execution_count": 83,
   "metadata": {},
   "outputs": [
    {
     "data": {
      "text/plain": [
       "(102, 3)"
      ]
     },
     "execution_count": 83,
     "metadata": {},
     "output_type": "execute_result"
    }
   ],
   "source": [
    "df.shape"
   ]
  }
 ],
 "metadata": {
  "kernelspec": {
   "display_name": "Python 3",
   "language": "python",
   "name": "python3"
  },
  "language_info": {
   "codemirror_mode": {
    "name": "ipython",
    "version": 3
   },
   "file_extension": ".py",
   "mimetype": "text/x-python",
   "name": "python",
   "nbconvert_exporter": "python",
   "pygments_lexer": "ipython3",
   "version": "3.7.0"
  }
 },
 "nbformat": 4,
 "nbformat_minor": 1
}
